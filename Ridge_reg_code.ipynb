{
 "cells": [
  {
   "cell_type": "markdown",
   "metadata": {},
   "source": [
    "# Ridge Regression Using Gradient Descent"
   ]
  },
  {
   "cell_type": "code",
   "execution_count": 4,
   "metadata": {},
   "outputs": [
    {
     "name": "stdout",
     "output_type": "stream",
     "text": [
      "17.345282064497777\n"
     ]
    }
   ],
   "source": [
    "import numpy as np\n",
    "import pandas as pd\n",
    "\n",
    "df = pd.read_csv(r'C:\\Users\\AMAN\\Desktop\\machine learning\\Behavior of the urban traffic of the city of Sao Paulo in Brazil\\Behavior of the urban traffic of the city of Sao Paulo in Brazil\\Behavior of the urban traffic of the city of Sao Paulo in Brazil.csv',sep=';',decimal=',')\n",
    "df.columns = ['Hour','Immobilized bus','Broken Truck','Vehicle excess','Accident victim','Running over','Fire vehicles','Occurrence involving freight','Incident involving dangerous freight','Lack of electricity','Fire','Point of flooding','Manifestations','Defect in the network of trolleybuses','Tree on the road','Semaphore off','Intermittent Semaphore','Slowness in traffic (%)']\n",
    "X_0=pd.Series([1]*len(df))\n",
    "X=pd.concat([X_0,df.drop(['Slowness in traffic (%)'],axis=1)],axis=1)\n",
    "\n",
    "train_size=int(round(len(df)*0.8))\n",
    "otpt=df['Slowness in traffic (%)']\n",
    "\n",
    "X_train=X[:train_size]\n",
    "X_test=X[train_size:]\n",
    "y_train=otpt[:train_size]\n",
    "y_test=otpt[train_size:]\n",
    "\n",
    "theta=np.zeros(len(X.columns))\n",
    "\n",
    "\n",
    "\n",
    "alpha=0.0001\n",
    "lmda=0.01\n",
    "n_iter=400000\n",
    "for i in range(0,n_iter):\n",
    "    \n",
    "    hx=(np.dot(X_train,theta))\n",
    "    theta[0]=theta[0]-((alpha*(np.sum(hx-y_train)))/108)\n",
    "    for j in range(1,len(theta)):\n",
    "        theta[j]=theta[j]*((1-(alpha*lmda))-(alpha*(np.sum(np.dot((hx-y_train),X_train.iloc[:,j])))))/108\n",
    "\n",
    "\n",
    "predicted_y=(np.dot(X_test,theta))\n",
    "error=(y_test - predicted_y)**2\n",
    "print(np.sum(error)/27)\n"
   ]
  },
  {
   "cell_type": "markdown",
   "metadata": {},
   "source": [
    "# Ridge Regression standard cost optimization"
   ]
  },
  {
   "cell_type": "code",
   "execution_count": 65,
   "metadata": {},
   "outputs": [
    {
     "name": "stdout",
     "output_type": "stream",
     "text": [
      "2.6251971520719537\n"
     ]
    }
   ],
   "source": [
    "XT=np.transpose(X_train)\n",
    "XTX=np.dot(XT,X_train)\n",
    "Ident_M=np.identity(18)\n",
    "lmda=0.01\n",
    "RIXTX=np.linalg.inv(XTX+(lmda*Ident_M))\n",
    "theta=np.dot(RIXTX,np.dot(XT,y_train))\n",
    "predic_y = np.dot(X_test,theta)\n",
    "error=(y_test - predic_y)\n",
    "print(np.sum(error)/27)"
   ]
  },
  {
   "cell_type": "markdown",
   "metadata": {},
   "source": [
    "# Ridge Regression MLE"
   ]
  },
  {
   "cell_type": "code",
   "execution_count": 139,
   "metadata": {},
   "outputs": [
    {
     "name": "stdout",
     "output_type": "stream",
     "text": [
      "0\n",
      "5.766129399366591\n"
     ]
    }
   ],
   "source": [
    "# In MLE first we find theta using closed form\n",
    "XT=np.transpose(X_train)\n",
    "XTX=np.dot(XT,X_train)\n",
    "Ident_M=np.identity(18)\n",
    "lmda=0.01\n",
    "RIXTX=np.linalg.inv(XTX+(lmda*Ident_M))\n",
    "theta=np.dot(RIXTX,np.dot(XT,y_train))\n",
    "pred_y=(np.dot(X_test,theta))\n",
    "var_y=(np.std(y_train))**2\n",
    "error=y_test-pred_y\n",
    "error=error-error.mean()\n",
    "print(int(error.mean()))\n",
    "print(error.var())\n"
   ]
  },
  {
   "cell_type": "code",
   "execution_count": null,
   "metadata": {},
   "outputs": [],
   "source": []
  }
 ],
 "metadata": {
  "kernelspec": {
   "display_name": "Python 3",
   "language": "python",
   "name": "python3"
  },
  "language_info": {
   "codemirror_mode": {
    "name": "ipython",
    "version": 3
   },
   "file_extension": ".py",
   "mimetype": "text/x-python",
   "name": "python",
   "nbconvert_exporter": "python",
   "pygments_lexer": "ipython3",
   "version": "3.7.1"
  }
 },
 "nbformat": 4,
 "nbformat_minor": 2
}
